{
  "nbformat": 4,
  "nbformat_minor": 0,
  "metadata": {
    "colab": {
      "name": "execise5.ipynb",
      "provenance": [],
      "collapsed_sections": []
    },
    "kernelspec": {
      "display_name": "Python 3",
      "name": "python3"
    }
  },
  "cells": [
    {
      "cell_type": "markdown",
      "metadata": {
        "id": "OK_F1hsd0Dfq"
      },
      "source": [
        "Imports \n"
      ]
    },
    {
      "cell_type": "code",
      "metadata": {
        "id": "T6jeSDN8QhfC"
      },
      "source": [
        "import numpy as np\n",
        "import scipy as scipy\n",
        "from scipy.sparse import spdiags\n",
        "import matplotlib.pylab as plt\n",
        "from scipy import sparse\n",
        "from scipy.sparse import csr_matrix\n",
        "from scipy.sparse import diags\n",
        "from scipy.sparse.linalg import inv\n",
        "from scipy.sparse import random\n",
        "from scipy.sparse.linalg import norm\n",
        "import time\n",
        "from scipy.sparse import csc_matrix\n",
        "from scipy.sparse.linalg import spsolve\n"
      ],
      "execution_count": 22,
      "outputs": []
    },
    {
      "cell_type": "markdown",
      "metadata": {
        "id": "2ePtzknJQV4w"
      },
      "source": [
        "lap.m into python code & function to calculate Norm from 1a)\n"
      ]
    },
    {
      "cell_type": "code",
      "metadata": {
        "id": "cLLHVj9UQQSH"
      },
      "source": [
        "def lap(n,d):\n",
        "  e = np.ones(n)\n",
        "  data = np.array([e, -2*e, e])\n",
        "  diag = np.array([-1, 0, 1])\n",
        "  A1 = -scipy.sparse.spdiags(data, diag, n, n)\n",
        "  I1 = sparse.eye(n,n)\n",
        "  A = A1  \n",
        "  I = I1\n",
        "  for k in range(1, d):\n",
        "    A = sparse.kron(A,I1) + sparse.kron(I,A1)\n",
        "    I = sparse.kron(I, I1)\n",
        "  return A\n",
        "\n",
        "def giveNorm(r, b):\n",
        "  return norm(r)/norm(b)"
      ],
      "execution_count": 8,
      "outputs": []
    },
    {
      "cell_type": "markdown",
      "metadata": {
        "id": "6TvcS7fRSoF1"
      },
      "source": [
        "Jacobi method (function)\n",
        "\n",
        "\n",
        "\n",
        "\n"
      ]
    },
    {
      "cell_type": "code",
      "metadata": {
        "id": "V6HVSlghR-z8"
      },
      "source": [
        "def jacobi(A, N):\n",
        "  M = diags(A.diagonal(), 0)\n",
        "  \n",
        "  T = A - M\n",
        "  \n",
        "  M = sparse.csr_matrix.todense(M)[0].flat[0]\n",
        "  \n",
        "  b = scipy.sparse.random(N, 1, density=1)\n",
        "  X = sparse.csr_matrix(np.ones((N,1))) * 0\n",
        "  Mi = sparse.csr_matrix(np.ones((N,1)))/M\n",
        "  Xvec = []\n",
        "  PxVec = []\n",
        "  k = 0\n",
        " \n",
        "  while True:\n",
        "    X =  np.multiply(Mi.toarray(),(b-T.dot(X).toarray()))\n",
        "    X = sparse.csr_matrix(X)\n",
        "    px = giveNorm(b-A.dot(X), b)\n",
        "\n",
        "    PxVec.append(px)\n",
        "    Xvec.append(X.toarray())\n",
        "    k += 1\n",
        "    \n",
        "    if px < 1e-7:\n",
        "      # print(X.toarray())\n",
        "      break\n",
        "  return Xvec, PxVec, k"
      ],
      "execution_count": 18,
      "outputs": []
    },
    {
      "cell_type": "markdown",
      "metadata": {
        "id": "6vu-dZmhSi4h"
      },
      "source": [
        "Conjugate method (function)\n"
      ]
    },
    {
      "cell_type": "code",
      "metadata": {
        "id": "0uO-DeoqQupn"
      },
      "source": [
        "def conjugate(A, N):\n",
        "  b = scipy.sparse.random(N, 1, density=1)\n",
        "  X = sparse.csr_matrix(np.ones((N,1))) * 0\n",
        "  p = X #p-1\n",
        "  beta = sparse.csr_matrix(0)\n",
        "  r = b.toarray() \n",
        "  r = sparse.csr_matrix(r) #r0\n",
        "  Xvec = []\n",
        "  PxVec = []\n",
        "\n",
        "  for k in range(0, N):\n",
        "    pk = r + beta.multiply(p) # pk\n",
        "    Apk = A.dot(pk) # A*Pk\n",
        "    alpha = csr_matrix.transpose(pk).dot(r)/csr_matrix.transpose(pk).dot(Apk) \n",
        "    alpha = sparse.csr_matrix(alpha) # alphak\n",
        "    Xk = X + alpha.multiply(pk) # Xk+1\n",
        "    rk = r - alpha.multiply(Apk) # rk+1\n",
        "\n",
        "    if k > 0:\n",
        "      beta = csr_matrix.transpose(rk).dot(rk)/(csr_matrix.transpose(r).dot(r)) # Bk\n",
        "      beta = sparse.csr_matrix(beta)\n",
        "    # uppdating\n",
        "    p = pk\n",
        "    r = rk\n",
        "    X = Xk\n",
        "    px = giveNorm(b-A.dot(Xk), b)\n",
        "    PxVec.append(px)\n",
        "    Xvec.append(X.toarray())\n",
        "    if px < 1e-10:\n",
        "      #print(px)\n",
        "      break\n",
        "\n",
        "  return Xvec, PxVec,k, b"
      ],
      "execution_count": 17,
      "outputs": []
    },
    {
      "cell_type": "markdown",
      "metadata": {
        "id": "8xp6MIbcU4BU"
      },
      "source": [
        "Plot for semilogy\n"
      ]
    },
    {
      "cell_type": "code",
      "metadata": {
        "id": "FGJU1d0TU8QU"
      },
      "source": [
        "def pltsemilogy(r, k, n, Method, d):\n",
        "  plt.semilogy(k[0],r[0])\n",
        "  plt.semilogy(k[1],r[1])\n",
        "  plt.semilogy(k[2],r[2])\n",
        "  plt.semilogy(k[3],r[3])\n",
        "  plt.title(str(Method) + \", d = \"+str(d))\n",
        "  plt.xlabel('k', fontsize=18)\n",
        "  plt.ylabel('r', fontsize=18)\n",
        "  plt.legend([\"N =\"+str(n[0]), \"N =\"+str(n[1]), \"N =\"+str(n[2]), \"N =\"+str(n[3])])\n",
        "  return"
      ],
      "execution_count": 11,
      "outputs": []
    },
    {
      "cell_type": "markdown",
      "metadata": {
        "id": "YihUFUSS2163"
      },
      "source": [
        "Jacobi method. Running with 4 different N values\n"
      ]
    },
    {
      "cell_type": "code",
      "metadata": {
        "colab": {
          "base_uri": "https://localhost:8080/",
          "height": 303
        },
        "id": "VKbLtOQTRv4J",
        "outputId": "ad5d5ceb-bd86-4999-94f0-35b9a8e37696"
      },
      "source": [
        "\n",
        "n = [10, 15, 20, 22]\n",
        "d = 2\n",
        "RList = []\n",
        "kList = []\n",
        "NList = np.zeros(4)\n",
        "for i in range(len(n)):\n",
        "  N = np.power(n[i],d)\n",
        "  NList[i] = N\n",
        "  A = lap(n[i],d)\n",
        "  X, R, k= jacobi(A, N)\n",
        "  RList.append(R)\n",
        "  kList.append(list(range(0, k)))\n",
        "pltsemilogy(RList,kList,NList, \"Jacobi Method\", d)"
      ],
      "execution_count": 24,
      "outputs": [
        {
          "output_type": "display_data",
          "data": {
            "image/png": "[encoded data removed]",
            "text/plain": [
              "<Figure size 432x288 with 1 Axes>"
            ]
          },
          "metadata": {
            "tags": [],
            "needs_background": "light"
          }
        }
      ]
    },
    {
      "cell_type": "markdown",
      "metadata": {
        "id": "5uFdL76Y88aI"
      },
      "source": [
        "conjugate gradient method. Running for 4 different N values. At the end: Comparing conjugate gradinet method with spsolve from scipy\n",
        "\n"
      ]
    },
    {
      "cell_type": "code",
      "metadata": {
        "colab": {
          "base_uri": "https://localhost:8080/"
        },
        "id": "PIVjsq1-87N5",
        "outputId": "1b0b1962-c9e5-4abb-dc10-dc13532950bf"
      },
      "source": [
        "n = [10]\n",
        "d = 2\n",
        "RList = []\n",
        "kList = []\n",
        "NList = np.zeros(4)\n",
        "for i in range(len(n)):\n",
        "  N = np.power(n[i],d)\n",
        "  NList[i] = N\n",
        "  A = lap(n[i],d)\n",
        "  start = time.time()\n",
        "  X, R, k, b= conjugate(A, N)\n",
        "  end = time.time()\n",
        "  print(f\"Runtime of the Conjugate gradient method is {end - start}\")\n",
        "  RList.append(R)\n",
        "  kList.append(list(range(0, k+1)))\n",
        "if len(n) == 4:\n",
        "  pltsemilogy(RList,kList,NList, \"Conjucate Method\", d)\n",
        "\n",
        "\n",
        "N = np.power(n[0],d)\n",
        "start = time.time()\n",
        "x = spsolve(A, b)\n",
        "end = time.time()\n",
        "print(f\"Runtime of the spsolve is {end - start}\")\n",
        "# diff\n",
        "# print(x-np.transpose(X[k])[0])\n",
        "\n"
      ],
      "execution_count": 21,
      "outputs": [
        {
          "output_type": "stream",
          "text": [
            "Runtime of the Conjugate gradient method is 0.13783693313598633\n",
            "Runtime of the spsolve is 0.0008578300476074219\n"
          ],
          "name": "stdout"
        }
      ]
    }
  ]
}